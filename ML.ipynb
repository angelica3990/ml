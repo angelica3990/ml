{
 "cells": [
  {
   "cell_type": "code",
   "execution_count": 21,
   "id": "f9458720",
   "metadata": {},
   "outputs": [],
   "source": [
    "# Import the required modules\n",
    "import pandas as pd\n",
    "from pathlib import Path\n",
    "from sklearn.model_selection import train_test_split\n",
    "from sklearn.linear_model import LogisticRegression\n",
    "from sklearn.metrics import classification_report\n",
    "import numpy as np\n",
    "from sklearn import linear_model, decomposition, datasets\n",
    "from sklearn.pipeline import Pipeline\n",
    "from sklearn.model_selection import GridSearchCV\n",
    "from sklearn.preprocessing import StandardScaler"
   ]
  },
  {
   "cell_type": "markdown",
   "id": "e9bbd518",
   "metadata": {},
   "source": [
    "## Read In Data"
   ]
  },
  {
   "cell_type": "code",
   "execution_count": 2,
   "id": "a2f4fe84",
   "metadata": {
    "scrolled": true
   },
   "outputs": [
    {
     "data": {
      "text/html": [
       "<div>\n",
       "<style scoped>\n",
       "    .dataframe tbody tr th:only-of-type {\n",
       "        vertical-align: middle;\n",
       "    }\n",
       "\n",
       "    .dataframe tbody tr th {\n",
       "        vertical-align: top;\n",
       "    }\n",
       "\n",
       "    .dataframe thead th {\n",
       "        text-align: right;\n",
       "    }\n",
       "</style>\n",
       "<table border=\"1\" class=\"dataframe\">\n",
       "  <thead>\n",
       "    <tr style=\"text-align: right;\">\n",
       "      <th></th>\n",
       "      <th>Date</th>\n",
       "      <th>OpenTYM3 ComdtyBid</th>\n",
       "      <th>Bid Prediction</th>\n",
       "      <th>CloseTYM3 ComdtyBid</th>\n",
       "      <th>HighTYM3 ComdtyBid</th>\n",
       "      <th>LowTYM3 ComdtyBid</th>\n",
       "      <th>ValueTYM3 ComdtyBid</th>\n",
       "      <th>VolumeTYM3 ComdtyBid</th>\n",
       "      <th>Number TicksTYM3 ComdtyBid</th>\n",
       "      <th>OpenTYM3 ComdtyAsk</th>\n",
       "      <th>...</th>\n",
       "      <th>ValueUXYM3 ComdtyBid</th>\n",
       "      <th>VolumeUXYM3 ComdtyBid</th>\n",
       "      <th>Number TicksUXYM3 ComdtyBid</th>\n",
       "      <th>OpenUXYM3 ComdtyAsk</th>\n",
       "      <th>CloseUXYM3 ComdtyAsk</th>\n",
       "      <th>HighUXYM3 ComdtyAsk</th>\n",
       "      <th>LowUXYM3 ComdtyAsk</th>\n",
       "      <th>ValueUXYM3 ComdtyAsk</th>\n",
       "      <th>VolumeUXYM3 ComdtyAsk</th>\n",
       "      <th>Number TicksUXYM3 ComdtyAsk</th>\n",
       "    </tr>\n",
       "  </thead>\n",
       "  <tbody>\n",
       "    <tr>\n",
       "      <th>0</th>\n",
       "      <td>2023-02-28 07:00:00</td>\n",
       "      <td>111.546875</td>\n",
       "      <td>0.0</td>\n",
       "      <td>111.546875</td>\n",
       "      <td>111.546875</td>\n",
       "      <td>111.531250</td>\n",
       "      <td>96651968.0</td>\n",
       "      <td>866523.0</td>\n",
       "      <td>916.0</td>\n",
       "      <td>111.562500</td>\n",
       "      <td>...</td>\n",
       "      <td>11566816.0</td>\n",
       "      <td>98894.0</td>\n",
       "      <td>580.0</td>\n",
       "      <td>117.000000</td>\n",
       "      <td>116.984375</td>\n",
       "      <td>117.000000</td>\n",
       "      <td>116.968750</td>\n",
       "      <td>11293638.0</td>\n",
       "      <td>96543.0</td>\n",
       "      <td>507.0</td>\n",
       "    </tr>\n",
       "    <tr>\n",
       "      <th>1</th>\n",
       "      <td>2023-02-28 07:01:00</td>\n",
       "      <td>111.546875</td>\n",
       "      <td>1.0</td>\n",
       "      <td>111.546875</td>\n",
       "      <td>111.546875</td>\n",
       "      <td>111.531250</td>\n",
       "      <td>98140928.0</td>\n",
       "      <td>879874.0</td>\n",
       "      <td>1465.0</td>\n",
       "      <td>111.562500</td>\n",
       "      <td>...</td>\n",
       "      <td>19167186.0</td>\n",
       "      <td>163881.0</td>\n",
       "      <td>933.0</td>\n",
       "      <td>116.984375</td>\n",
       "      <td>116.984375</td>\n",
       "      <td>116.984375</td>\n",
       "      <td>116.968750</td>\n",
       "      <td>17827388.0</td>\n",
       "      <td>152398.0</td>\n",
       "      <td>791.0</td>\n",
       "    </tr>\n",
       "    <tr>\n",
       "      <th>2</th>\n",
       "      <td>2023-02-28 07:02:00</td>\n",
       "      <td>111.546875</td>\n",
       "      <td>0.0</td>\n",
       "      <td>111.562500</td>\n",
       "      <td>111.562500</td>\n",
       "      <td>111.546875</td>\n",
       "      <td>136920768.0</td>\n",
       "      <td>1227437.0</td>\n",
       "      <td>1601.0</td>\n",
       "      <td>111.562500</td>\n",
       "      <td>...</td>\n",
       "      <td>19624616.0</td>\n",
       "      <td>167764.0</td>\n",
       "      <td>825.0</td>\n",
       "      <td>116.984375</td>\n",
       "      <td>117.000000</td>\n",
       "      <td>117.000000</td>\n",
       "      <td>116.984375</td>\n",
       "      <td>27219594.0</td>\n",
       "      <td>232650.0</td>\n",
       "      <td>874.0</td>\n",
       "    </tr>\n",
       "    <tr>\n",
       "      <th>3</th>\n",
       "      <td>2023-02-28 07:03:00</td>\n",
       "      <td>111.562500</td>\n",
       "      <td>1.0</td>\n",
       "      <td>111.562500</td>\n",
       "      <td>111.562500</td>\n",
       "      <td>111.546875</td>\n",
       "      <td>55815048.0</td>\n",
       "      <td>500312.0</td>\n",
       "      <td>677.0</td>\n",
       "      <td>111.578125</td>\n",
       "      <td>...</td>\n",
       "      <td>8318202.0</td>\n",
       "      <td>71100.0</td>\n",
       "      <td>395.0</td>\n",
       "      <td>117.000000</td>\n",
       "      <td>117.015625</td>\n",
       "      <td>117.015625</td>\n",
       "      <td>117.000000</td>\n",
       "      <td>13136253.0</td>\n",
       "      <td>112268.0</td>\n",
       "      <td>339.0</td>\n",
       "    </tr>\n",
       "    <tr>\n",
       "      <th>4</th>\n",
       "      <td>2023-02-28 07:04:00</td>\n",
       "      <td>111.562500</td>\n",
       "      <td>-1.0</td>\n",
       "      <td>111.578125</td>\n",
       "      <td>111.578125</td>\n",
       "      <td>111.562500</td>\n",
       "      <td>147000992.0</td>\n",
       "      <td>1317587.0</td>\n",
       "      <td>949.0</td>\n",
       "      <td>111.578125</td>\n",
       "      <td>...</td>\n",
       "      <td>16838974.0</td>\n",
       "      <td>143919.0</td>\n",
       "      <td>471.0</td>\n",
       "      <td>117.015625</td>\n",
       "      <td>117.031250</td>\n",
       "      <td>117.031250</td>\n",
       "      <td>117.015625</td>\n",
       "      <td>15118071.0</td>\n",
       "      <td>129191.0</td>\n",
       "      <td>654.0</td>\n",
       "    </tr>\n",
       "  </tbody>\n",
       "</table>\n",
       "<p>5 rows × 58 columns</p>\n",
       "</div>"
      ],
      "text/plain": [
       "                 Date  OpenTYM3 ComdtyBid  Bid Prediction  \\\n",
       "0 2023-02-28 07:00:00          111.546875             0.0   \n",
       "1 2023-02-28 07:01:00          111.546875             1.0   \n",
       "2 2023-02-28 07:02:00          111.546875             0.0   \n",
       "3 2023-02-28 07:03:00          111.562500             1.0   \n",
       "4 2023-02-28 07:04:00          111.562500            -1.0   \n",
       "\n",
       "   CloseTYM3 ComdtyBid  HighTYM3 ComdtyBid  LowTYM3 ComdtyBid  \\\n",
       "0           111.546875          111.546875         111.531250   \n",
       "1           111.546875          111.546875         111.531250   \n",
       "2           111.562500          111.562500         111.546875   \n",
       "3           111.562500          111.562500         111.546875   \n",
       "4           111.578125          111.578125         111.562500   \n",
       "\n",
       "   ValueTYM3 ComdtyBid  VolumeTYM3 ComdtyBid  Number TicksTYM3 ComdtyBid  \\\n",
       "0           96651968.0              866523.0                       916.0   \n",
       "1           98140928.0              879874.0                      1465.0   \n",
       "2          136920768.0             1227437.0                      1601.0   \n",
       "3           55815048.0              500312.0                       677.0   \n",
       "4          147000992.0             1317587.0                       949.0   \n",
       "\n",
       "   OpenTYM3 ComdtyAsk  ...  ValueUXYM3 ComdtyBid  VolumeUXYM3 ComdtyBid  \\\n",
       "0          111.562500  ...            11566816.0                98894.0   \n",
       "1          111.562500  ...            19167186.0               163881.0   \n",
       "2          111.562500  ...            19624616.0               167764.0   \n",
       "3          111.578125  ...             8318202.0                71100.0   \n",
       "4          111.578125  ...            16838974.0               143919.0   \n",
       "\n",
       "   Number TicksUXYM3 ComdtyBid  OpenUXYM3 ComdtyAsk  CloseUXYM3 ComdtyAsk  \\\n",
       "0                        580.0           117.000000            116.984375   \n",
       "1                        933.0           116.984375            116.984375   \n",
       "2                        825.0           116.984375            117.000000   \n",
       "3                        395.0           117.000000            117.015625   \n",
       "4                        471.0           117.015625            117.031250   \n",
       "\n",
       "   HighUXYM3 ComdtyAsk  LowUXYM3 ComdtyAsk  ValueUXYM3 ComdtyAsk  \\\n",
       "0           117.000000          116.968750            11293638.0   \n",
       "1           116.984375          116.968750            17827388.0   \n",
       "2           117.000000          116.984375            27219594.0   \n",
       "3           117.015625          117.000000            13136253.0   \n",
       "4           117.031250          117.015625            15118071.0   \n",
       "\n",
       "   VolumeUXYM3 ComdtyAsk  Number TicksUXYM3 ComdtyAsk  \n",
       "0                96543.0                        507.0  \n",
       "1               152398.0                        791.0  \n",
       "2               232650.0                        874.0  \n",
       "3               112268.0                        339.0  \n",
       "4               129191.0                        654.0  \n",
       "\n",
       "[5 rows x 58 columns]"
      ]
     },
     "execution_count": 2,
     "metadata": {},
     "output_type": "execute_result"
    }
   ],
   "source": [
    "# Loading data\n",
    "df_loans = pd.read_excel ('bulkdata no na.xlsx')\n",
    "df_loans.head()"
   ]
  },
  {
   "cell_type": "code",
   "execution_count": 3,
   "id": "be68e0ab",
   "metadata": {},
   "outputs": [],
   "source": [
    "df_loans['Date'] = pd.to_numeric(pd.to_datetime(df_loans['Date']))"
   ]
  },
  {
   "cell_type": "code",
   "execution_count": 4,
   "id": "43c2e804",
   "metadata": {},
   "outputs": [],
   "source": [
    "new_df = df_loans.dropna()"
   ]
  },
  {
   "cell_type": "code",
   "execution_count": 5,
   "id": "61470531",
   "metadata": {},
   "outputs": [
    {
     "data": {
      "text/plain": [
       "Date                             int64\n",
       "OpenTYM3 ComdtyBid             float64\n",
       "Bid Prediction                 float64\n",
       "CloseTYM3 ComdtyBid            float64\n",
       "HighTYM3 ComdtyBid             float64\n",
       "LowTYM3 ComdtyBid              float64\n",
       "ValueTYM3 ComdtyBid            float64\n",
       "VolumeTYM3 ComdtyBid           float64\n",
       "Number TicksTYM3 ComdtyBid     float64\n",
       "OpenTYM3 ComdtyAsk             float64\n",
       "CloseTYM3 ComdtyAsk            float64\n",
       "HighTYM3 ComdtyAsk             float64\n",
       "LowTYM3 ComdtyAsk              float64\n",
       "ValueTYM3 ComdtyAsk            float64\n",
       "VolumeTYM3 ComdtyAsk             int64\n",
       "Number TicksTYM3 ComdtyAsk       int64\n",
       "OpenTUM3 ComdtyBid             float64\n",
       "CloseTUM3 ComdtyBid            float64\n",
       "HighTUM3 ComdtyBid             float64\n",
       "LowTUM3 ComdtyBid              float64\n",
       "ValueTUM3 ComdtyBid            float64\n",
       "VolumeTUM3 ComdtyBid           float64\n",
       "Number TicksTUM3 ComdtyBid     float64\n",
       "OpenTUM3 ComdtyAsk             float64\n",
       "CloseTUM3 ComdtyAsk            float64\n",
       "HighTUM3 ComdtyAsk             float64\n",
       "LowTUM3 ComdtyAsk              float64\n",
       "ValueTUM3 ComdtyAsk            float64\n",
       "VolumeTUM3 ComdtyAsk           float64\n",
       "Number TicksTUM3 ComdtyAsk     float64\n",
       "OpenFVM3 ComdtyBid             float64\n",
       "CloseFVM3 ComdtyBid            float64\n",
       "HighFVM3 ComdtyBid             float64\n",
       "LowFVM3 ComdtyBid              float64\n",
       "ValueFVM3 ComdtyBid            float64\n",
       "VolumeFVM3 ComdtyBid           float64\n",
       "Number TicksFVM3 ComdtyBid     float64\n",
       "OpenFVM3 ComdtyAsk             float64\n",
       "CloseFVM3 ComdtyAsk            float64\n",
       "HighFVM3 ComdtyAsk             float64\n",
       "LowFVM3 ComdtyAsk              float64\n",
       "ValueFVM3 ComdtyAsk            float64\n",
       "VolumeFVM3 ComdtyAsk           float64\n",
       "Number TicksFVM3 ComdtyAsk     float64\n",
       "OpenUXYM3 ComdtyBid            float64\n",
       "CloseUXYM3 ComdtyBid           float64\n",
       "HighUXYM3 ComdtyBid            float64\n",
       "LowUXYM3 ComdtyBid             float64\n",
       "ValueUXYM3 ComdtyBid           float64\n",
       "VolumeUXYM3 ComdtyBid          float64\n",
       "Number TicksUXYM3 ComdtyBid    float64\n",
       "OpenUXYM3 ComdtyAsk            float64\n",
       "CloseUXYM3 ComdtyAsk           float64\n",
       "HighUXYM3 ComdtyAsk            float64\n",
       "LowUXYM3 ComdtyAsk             float64\n",
       "ValueUXYM3 ComdtyAsk           float64\n",
       "VolumeUXYM3 ComdtyAsk          float64\n",
       "Number TicksUXYM3 ComdtyAsk    float64\n",
       "dtype: object"
      ]
     },
     "execution_count": 5,
     "metadata": {},
     "output_type": "execute_result"
    }
   ],
   "source": [
    "new_df.dtypes"
   ]
  },
  {
   "cell_type": "code",
   "execution_count": 6,
   "id": "9d74537e",
   "metadata": {
    "scrolled": true
   },
   "outputs": [],
   "source": [
    "## Convert columns to categorical \n",
    "## maybe?"
   ]
  },
  {
   "cell_type": "markdown",
   "id": "9644526f",
   "metadata": {},
   "source": [
    "## Split Data Into Training/Testing"
   ]
  },
  {
   "cell_type": "code",
   "execution_count": 7,
   "id": "cad6ba82",
   "metadata": {},
   "outputs": [],
   "source": [
    "# Split the data into X (features) and y (target)\n",
    "y = new_df['Bid Prediction']\n",
    "X = new_df.drop(columns='Bid Prediction')"
   ]
  },
  {
   "cell_type": "code",
   "execution_count": 8,
   "id": "a6339d6b",
   "metadata": {
    "scrolled": true
   },
   "outputs": [
    {
     "data": {
      "text/html": [
       "<div>\n",
       "<style scoped>\n",
       "    .dataframe tbody tr th:only-of-type {\n",
       "        vertical-align: middle;\n",
       "    }\n",
       "\n",
       "    .dataframe tbody tr th {\n",
       "        vertical-align: top;\n",
       "    }\n",
       "\n",
       "    .dataframe thead th {\n",
       "        text-align: right;\n",
       "    }\n",
       "</style>\n",
       "<table border=\"1\" class=\"dataframe\">\n",
       "  <thead>\n",
       "    <tr style=\"text-align: right;\">\n",
       "      <th></th>\n",
       "      <th>Date</th>\n",
       "      <th>OpenTYM3 ComdtyBid</th>\n",
       "      <th>CloseTYM3 ComdtyBid</th>\n",
       "      <th>HighTYM3 ComdtyBid</th>\n",
       "      <th>LowTYM3 ComdtyBid</th>\n",
       "      <th>ValueTYM3 ComdtyBid</th>\n",
       "      <th>VolumeTYM3 ComdtyBid</th>\n",
       "      <th>Number TicksTYM3 ComdtyBid</th>\n",
       "      <th>OpenTYM3 ComdtyAsk</th>\n",
       "      <th>CloseTYM3 ComdtyAsk</th>\n",
       "      <th>...</th>\n",
       "      <th>ValueUXYM3 ComdtyBid</th>\n",
       "      <th>VolumeUXYM3 ComdtyBid</th>\n",
       "      <th>Number TicksUXYM3 ComdtyBid</th>\n",
       "      <th>OpenUXYM3 ComdtyAsk</th>\n",
       "      <th>CloseUXYM3 ComdtyAsk</th>\n",
       "      <th>HighUXYM3 ComdtyAsk</th>\n",
       "      <th>LowUXYM3 ComdtyAsk</th>\n",
       "      <th>ValueUXYM3 ComdtyAsk</th>\n",
       "      <th>VolumeUXYM3 ComdtyAsk</th>\n",
       "      <th>Number TicksUXYM3 ComdtyAsk</th>\n",
       "    </tr>\n",
       "  </thead>\n",
       "  <tbody>\n",
       "    <tr>\n",
       "      <th>0</th>\n",
       "      <td>1677567600000000000</td>\n",
       "      <td>111.546875</td>\n",
       "      <td>111.546875</td>\n",
       "      <td>111.546875</td>\n",
       "      <td>111.531250</td>\n",
       "      <td>96651968.0</td>\n",
       "      <td>866523.0</td>\n",
       "      <td>916.0</td>\n",
       "      <td>111.562500</td>\n",
       "      <td>111.562500</td>\n",
       "      <td>...</td>\n",
       "      <td>11566816.0</td>\n",
       "      <td>98894.0</td>\n",
       "      <td>580.0</td>\n",
       "      <td>117.000000</td>\n",
       "      <td>116.984375</td>\n",
       "      <td>117.000000</td>\n",
       "      <td>116.968750</td>\n",
       "      <td>11293638.0</td>\n",
       "      <td>96543.0</td>\n",
       "      <td>507.0</td>\n",
       "    </tr>\n",
       "    <tr>\n",
       "      <th>1</th>\n",
       "      <td>1677567660000000000</td>\n",
       "      <td>111.546875</td>\n",
       "      <td>111.546875</td>\n",
       "      <td>111.546875</td>\n",
       "      <td>111.531250</td>\n",
       "      <td>98140928.0</td>\n",
       "      <td>879874.0</td>\n",
       "      <td>1465.0</td>\n",
       "      <td>111.562500</td>\n",
       "      <td>111.562500</td>\n",
       "      <td>...</td>\n",
       "      <td>19167186.0</td>\n",
       "      <td>163881.0</td>\n",
       "      <td>933.0</td>\n",
       "      <td>116.984375</td>\n",
       "      <td>116.984375</td>\n",
       "      <td>116.984375</td>\n",
       "      <td>116.968750</td>\n",
       "      <td>17827388.0</td>\n",
       "      <td>152398.0</td>\n",
       "      <td>791.0</td>\n",
       "    </tr>\n",
       "    <tr>\n",
       "      <th>2</th>\n",
       "      <td>1677567720000000000</td>\n",
       "      <td>111.546875</td>\n",
       "      <td>111.562500</td>\n",
       "      <td>111.562500</td>\n",
       "      <td>111.546875</td>\n",
       "      <td>136920768.0</td>\n",
       "      <td>1227437.0</td>\n",
       "      <td>1601.0</td>\n",
       "      <td>111.562500</td>\n",
       "      <td>111.578125</td>\n",
       "      <td>...</td>\n",
       "      <td>19624616.0</td>\n",
       "      <td>167764.0</td>\n",
       "      <td>825.0</td>\n",
       "      <td>116.984375</td>\n",
       "      <td>117.000000</td>\n",
       "      <td>117.000000</td>\n",
       "      <td>116.984375</td>\n",
       "      <td>27219594.0</td>\n",
       "      <td>232650.0</td>\n",
       "      <td>874.0</td>\n",
       "    </tr>\n",
       "    <tr>\n",
       "      <th>3</th>\n",
       "      <td>1677567780000000000</td>\n",
       "      <td>111.562500</td>\n",
       "      <td>111.562500</td>\n",
       "      <td>111.562500</td>\n",
       "      <td>111.546875</td>\n",
       "      <td>55815048.0</td>\n",
       "      <td>500312.0</td>\n",
       "      <td>677.0</td>\n",
       "      <td>111.578125</td>\n",
       "      <td>111.578125</td>\n",
       "      <td>...</td>\n",
       "      <td>8318202.0</td>\n",
       "      <td>71100.0</td>\n",
       "      <td>395.0</td>\n",
       "      <td>117.000000</td>\n",
       "      <td>117.015625</td>\n",
       "      <td>117.015625</td>\n",
       "      <td>117.000000</td>\n",
       "      <td>13136253.0</td>\n",
       "      <td>112268.0</td>\n",
       "      <td>339.0</td>\n",
       "    </tr>\n",
       "    <tr>\n",
       "      <th>4</th>\n",
       "      <td>1677567840000000000</td>\n",
       "      <td>111.562500</td>\n",
       "      <td>111.578125</td>\n",
       "      <td>111.578125</td>\n",
       "      <td>111.562500</td>\n",
       "      <td>147000992.0</td>\n",
       "      <td>1317587.0</td>\n",
       "      <td>949.0</td>\n",
       "      <td>111.578125</td>\n",
       "      <td>111.593750</td>\n",
       "      <td>...</td>\n",
       "      <td>16838974.0</td>\n",
       "      <td>143919.0</td>\n",
       "      <td>471.0</td>\n",
       "      <td>117.015625</td>\n",
       "      <td>117.031250</td>\n",
       "      <td>117.031250</td>\n",
       "      <td>117.015625</td>\n",
       "      <td>15118071.0</td>\n",
       "      <td>129191.0</td>\n",
       "      <td>654.0</td>\n",
       "    </tr>\n",
       "  </tbody>\n",
       "</table>\n",
       "<p>5 rows × 57 columns</p>\n",
       "</div>"
      ],
      "text/plain": [
       "                  Date  OpenTYM3 ComdtyBid  CloseTYM3 ComdtyBid  \\\n",
       "0  1677567600000000000          111.546875           111.546875   \n",
       "1  1677567660000000000          111.546875           111.546875   \n",
       "2  1677567720000000000          111.546875           111.562500   \n",
       "3  1677567780000000000          111.562500           111.562500   \n",
       "4  1677567840000000000          111.562500           111.578125   \n",
       "\n",
       "   HighTYM3 ComdtyBid  LowTYM3 ComdtyBid  ValueTYM3 ComdtyBid  \\\n",
       "0          111.546875         111.531250           96651968.0   \n",
       "1          111.546875         111.531250           98140928.0   \n",
       "2          111.562500         111.546875          136920768.0   \n",
       "3          111.562500         111.546875           55815048.0   \n",
       "4          111.578125         111.562500          147000992.0   \n",
       "\n",
       "   VolumeTYM3 ComdtyBid  Number TicksTYM3 ComdtyBid  OpenTYM3 ComdtyAsk  \\\n",
       "0              866523.0                       916.0          111.562500   \n",
       "1              879874.0                      1465.0          111.562500   \n",
       "2             1227437.0                      1601.0          111.562500   \n",
       "3              500312.0                       677.0          111.578125   \n",
       "4             1317587.0                       949.0          111.578125   \n",
       "\n",
       "   CloseTYM3 ComdtyAsk  ...  ValueUXYM3 ComdtyBid  VolumeUXYM3 ComdtyBid  \\\n",
       "0           111.562500  ...            11566816.0                98894.0   \n",
       "1           111.562500  ...            19167186.0               163881.0   \n",
       "2           111.578125  ...            19624616.0               167764.0   \n",
       "3           111.578125  ...             8318202.0                71100.0   \n",
       "4           111.593750  ...            16838974.0               143919.0   \n",
       "\n",
       "   Number TicksUXYM3 ComdtyBid  OpenUXYM3 ComdtyAsk  CloseUXYM3 ComdtyAsk  \\\n",
       "0                        580.0           117.000000            116.984375   \n",
       "1                        933.0           116.984375            116.984375   \n",
       "2                        825.0           116.984375            117.000000   \n",
       "3                        395.0           117.000000            117.015625   \n",
       "4                        471.0           117.015625            117.031250   \n",
       "\n",
       "   HighUXYM3 ComdtyAsk  LowUXYM3 ComdtyAsk  ValueUXYM3 ComdtyAsk  \\\n",
       "0           117.000000          116.968750            11293638.0   \n",
       "1           116.984375          116.968750            17827388.0   \n",
       "2           117.000000          116.984375            27219594.0   \n",
       "3           117.015625          117.000000            13136253.0   \n",
       "4           117.031250          117.015625            15118071.0   \n",
       "\n",
       "   VolumeUXYM3 ComdtyAsk  Number TicksUXYM3 ComdtyAsk  \n",
       "0                96543.0                        507.0  \n",
       "1               152398.0                        791.0  \n",
       "2               232650.0                        874.0  \n",
       "3               112268.0                        339.0  \n",
       "4               129191.0                        654.0  \n",
       "\n",
       "[5 rows x 57 columns]"
      ]
     },
     "execution_count": 8,
     "metadata": {},
     "output_type": "execute_result"
    }
   ],
   "source": [
    "# Preview the features data\n",
    "X.head()"
   ]
  },
  {
   "cell_type": "code",
   "execution_count": 9,
   "id": "d3896d2b",
   "metadata": {},
   "outputs": [
    {
     "data": {
      "text/plain": [
       "0    0.0\n",
       "1    1.0\n",
       "2    0.0\n",
       "3    1.0\n",
       "4   -1.0\n",
       "Name: Bid Prediction, dtype: float64"
      ]
     },
     "execution_count": 9,
     "metadata": {},
     "output_type": "execute_result"
    }
   ],
   "source": [
    "# Preview the first five entries for the target variable\n",
    "y[:5]"
   ]
  },
  {
   "cell_type": "code",
   "execution_count": 10,
   "id": "865dd8d3",
   "metadata": {},
   "outputs": [],
   "source": [
    "# Split into testing and training sets using train_test_split\n",
    "X_train, X_test, y_train, y_test = train_test_split(X, y, random_state=42)"
   ]
  },
  {
   "cell_type": "markdown",
   "id": "eb7aaa10",
   "metadata": {},
   "source": [
    "## Apply Feature Selection"
   ]
  },
  {
   "cell_type": "code",
   "execution_count": null,
   "id": "4ced0df3",
   "metadata": {},
   "outputs": [],
   "source": [
    "# SelectKBest\n",
    "from sklearn.feature_selection import SelectKBest\n",
    "from sklearn.feature_selection import SelectKBest, chi2\n",
    "# Create an instance of SelectKBest\n",
    "selector = SelectKBest(chi2, k=5)"
   ]
  },
  {
   "cell_type": "code",
   "execution_count": null,
   "id": "3d9025e6",
   "metadata": {},
   "outputs": [],
   "source": [
    "# Fit the selector to the training data\n",
    "X_train_kbest = selector.fit_transform(X_train, y_train)"
   ]
  },
  {
   "cell_type": "code",
   "execution_count": 13,
   "id": "b18ea3b6",
   "metadata": {},
   "outputs": [],
   "source": [
    "# Transform the testing data\n",
    "X_test_kbest = selector.transform(X_test)"
   ]
  },
  {
   "cell_type": "code",
   "execution_count": null,
   "id": "5974f859",
   "metadata": {},
   "outputs": [],
   "source": [
    "# Recursive feature elimination\n",
    "# Create an instance of the logistic regression model\n",
    "logistic_regression_model = LogisticRegression(random_state=42)"
   ]
  },
  {
   "cell_type": "code",
   "execution_count": null,
   "id": "a660b0dc",
   "metadata": {},
   "outputs": [],
   "source": [
    "# Create an instance of RFE\n",
    "from sklearn.feature_selection import RFE\n",
    "rfe = RFE(logistic_regression_model, n_features_to_select=5)"
   ]
  },
  {
   "cell_type": "code",
   "execution_count": null,
   "id": "1bacd1ad",
   "metadata": {},
   "outputs": [],
   "source": [
    "# Fit RFE to the training data\n",
    "X_train_rfe = rfe.fit_transform(X_train, y_train)"
   ]
  },
  {
   "cell_type": "code",
   "execution_count": null,
   "id": "09ea00b1",
   "metadata": {},
   "outputs": [],
   "source": [
    "# Transform the testing data\n",
    "X_test_rfe = rfe.transform(X_test)"
   ]
  },
  {
   "cell_type": "markdown",
   "id": "64d1ca1a",
   "metadata": {},
   "source": [
    "## Apply regularization"
   ]
  },
  {
   "cell_type": "code",
   "execution_count": 19,
   "id": "ea9a44bf",
   "metadata": {},
   "outputs": [],
   "source": [
    "# L1 penalty\n",
    "logistic_regression_model_l1 = LogisticRegression(penalty='l1', solver='liblinear')"
   ]
  },
  {
   "cell_type": "code",
   "execution_count": 20,
   "id": "2df95a30",
   "metadata": {},
   "outputs": [
    {
     "ename": "KeyboardInterrupt",
     "evalue": "",
     "output_type": "error",
     "traceback": [
      "\u001b[1;31m---------------------------------------------------------------------------\u001b[0m",
      "\u001b[1;31mKeyboardInterrupt\u001b[0m                         Traceback (most recent call last)",
      "Cell \u001b[1;32mIn[20], line 2\u001b[0m\n\u001b[0;32m      1\u001b[0m \u001b[38;5;66;03m# Fit the L1 model to the training data\u001b[39;00m\n\u001b[1;32m----> 2\u001b[0m l1_model \u001b[38;5;241m=\u001b[39m \u001b[43mlogistic_regression_model_l1\u001b[49m\u001b[38;5;241;43m.\u001b[39;49m\u001b[43mfit\u001b[49m\u001b[43m(\u001b[49m\u001b[43mX_train\u001b[49m\u001b[43m,\u001b[49m\u001b[43m \u001b[49m\u001b[43my_train\u001b[49m\u001b[43m)\u001b[49m\n",
      "File \u001b[1;32m~\\anaconda3\\lib\\site-packages\\sklearn\\linear_model\\_logistic.py:1216\u001b[0m, in \u001b[0;36mLogisticRegression.fit\u001b[1;34m(self, X, y, sample_weight)\u001b[0m\n\u001b[0;32m   1210\u001b[0m     \u001b[38;5;28;01mif\u001b[39;00m effective_n_jobs(\u001b[38;5;28mself\u001b[39m\u001b[38;5;241m.\u001b[39mn_jobs) \u001b[38;5;241m!=\u001b[39m \u001b[38;5;241m1\u001b[39m:\n\u001b[0;32m   1211\u001b[0m         warnings\u001b[38;5;241m.\u001b[39mwarn(\n\u001b[0;32m   1212\u001b[0m             \u001b[38;5;124m\"\u001b[39m\u001b[38;5;124m'\u001b[39m\u001b[38;5;124mn_jobs\u001b[39m\u001b[38;5;124m'\u001b[39m\u001b[38;5;124m > 1 does not have any effect when\u001b[39m\u001b[38;5;124m\"\u001b[39m\n\u001b[0;32m   1213\u001b[0m             \u001b[38;5;124m\"\u001b[39m\u001b[38;5;124m \u001b[39m\u001b[38;5;124m'\u001b[39m\u001b[38;5;124msolver\u001b[39m\u001b[38;5;124m'\u001b[39m\u001b[38;5;124m is set to \u001b[39m\u001b[38;5;124m'\u001b[39m\u001b[38;5;124mliblinear\u001b[39m\u001b[38;5;124m'\u001b[39m\u001b[38;5;124m. Got \u001b[39m\u001b[38;5;124m'\u001b[39m\u001b[38;5;124mn_jobs\u001b[39m\u001b[38;5;124m'\u001b[39m\u001b[38;5;124m\"\u001b[39m\n\u001b[0;32m   1214\u001b[0m             \u001b[38;5;124m\"\u001b[39m\u001b[38;5;124m = \u001b[39m\u001b[38;5;132;01m{}\u001b[39;00m\u001b[38;5;124m.\u001b[39m\u001b[38;5;124m\"\u001b[39m\u001b[38;5;241m.\u001b[39mformat(effective_n_jobs(\u001b[38;5;28mself\u001b[39m\u001b[38;5;241m.\u001b[39mn_jobs))\n\u001b[0;32m   1215\u001b[0m         )\n\u001b[1;32m-> 1216\u001b[0m     \u001b[38;5;28mself\u001b[39m\u001b[38;5;241m.\u001b[39mcoef_, \u001b[38;5;28mself\u001b[39m\u001b[38;5;241m.\u001b[39mintercept_, \u001b[38;5;28mself\u001b[39m\u001b[38;5;241m.\u001b[39mn_iter_ \u001b[38;5;241m=\u001b[39m \u001b[43m_fit_liblinear\u001b[49m\u001b[43m(\u001b[49m\n\u001b[0;32m   1217\u001b[0m \u001b[43m        \u001b[49m\u001b[43mX\u001b[49m\u001b[43m,\u001b[49m\n\u001b[0;32m   1218\u001b[0m \u001b[43m        \u001b[49m\u001b[43my\u001b[49m\u001b[43m,\u001b[49m\n\u001b[0;32m   1219\u001b[0m \u001b[43m        \u001b[49m\u001b[38;5;28;43mself\u001b[39;49m\u001b[38;5;241;43m.\u001b[39;49m\u001b[43mC\u001b[49m\u001b[43m,\u001b[49m\n\u001b[0;32m   1220\u001b[0m \u001b[43m        \u001b[49m\u001b[38;5;28;43mself\u001b[39;49m\u001b[38;5;241;43m.\u001b[39;49m\u001b[43mfit_intercept\u001b[49m\u001b[43m,\u001b[49m\n\u001b[0;32m   1221\u001b[0m \u001b[43m        \u001b[49m\u001b[38;5;28;43mself\u001b[39;49m\u001b[38;5;241;43m.\u001b[39;49m\u001b[43mintercept_scaling\u001b[49m\u001b[43m,\u001b[49m\n\u001b[0;32m   1222\u001b[0m \u001b[43m        \u001b[49m\u001b[38;5;28;43mself\u001b[39;49m\u001b[38;5;241;43m.\u001b[39;49m\u001b[43mclass_weight\u001b[49m\u001b[43m,\u001b[49m\n\u001b[0;32m   1223\u001b[0m \u001b[43m        \u001b[49m\u001b[38;5;28;43mself\u001b[39;49m\u001b[38;5;241;43m.\u001b[39;49m\u001b[43mpenalty\u001b[49m\u001b[43m,\u001b[49m\n\u001b[0;32m   1224\u001b[0m \u001b[43m        \u001b[49m\u001b[38;5;28;43mself\u001b[39;49m\u001b[38;5;241;43m.\u001b[39;49m\u001b[43mdual\u001b[49m\u001b[43m,\u001b[49m\n\u001b[0;32m   1225\u001b[0m \u001b[43m        \u001b[49m\u001b[38;5;28;43mself\u001b[39;49m\u001b[38;5;241;43m.\u001b[39;49m\u001b[43mverbose\u001b[49m\u001b[43m,\u001b[49m\n\u001b[0;32m   1226\u001b[0m \u001b[43m        \u001b[49m\u001b[38;5;28;43mself\u001b[39;49m\u001b[38;5;241;43m.\u001b[39;49m\u001b[43mmax_iter\u001b[49m\u001b[43m,\u001b[49m\n\u001b[0;32m   1227\u001b[0m \u001b[43m        \u001b[49m\u001b[38;5;28;43mself\u001b[39;49m\u001b[38;5;241;43m.\u001b[39;49m\u001b[43mtol\u001b[49m\u001b[43m,\u001b[49m\n\u001b[0;32m   1228\u001b[0m \u001b[43m        \u001b[49m\u001b[38;5;28;43mself\u001b[39;49m\u001b[38;5;241;43m.\u001b[39;49m\u001b[43mrandom_state\u001b[49m\u001b[43m,\u001b[49m\n\u001b[0;32m   1229\u001b[0m \u001b[43m        \u001b[49m\u001b[43msample_weight\u001b[49m\u001b[38;5;241;43m=\u001b[39;49m\u001b[43msample_weight\u001b[49m\u001b[43m,\u001b[49m\n\u001b[0;32m   1230\u001b[0m \u001b[43m    \u001b[49m\u001b[43m)\u001b[49m\n\u001b[0;32m   1231\u001b[0m     \u001b[38;5;28;01mreturn\u001b[39;00m \u001b[38;5;28mself\u001b[39m\n\u001b[0;32m   1233\u001b[0m \u001b[38;5;28;01mif\u001b[39;00m solver \u001b[38;5;129;01min\u001b[39;00m [\u001b[38;5;124m\"\u001b[39m\u001b[38;5;124msag\u001b[39m\u001b[38;5;124m\"\u001b[39m, \u001b[38;5;124m\"\u001b[39m\u001b[38;5;124msaga\u001b[39m\u001b[38;5;124m\"\u001b[39m]:\n",
      "File \u001b[1;32m~\\anaconda3\\lib\\site-packages\\sklearn\\svm\\_base.py:1224\u001b[0m, in \u001b[0;36m_fit_liblinear\u001b[1;34m(X, y, C, fit_intercept, intercept_scaling, class_weight, penalty, dual, verbose, max_iter, tol, random_state, multi_class, loss, epsilon, sample_weight)\u001b[0m\n\u001b[0;32m   1221\u001b[0m sample_weight \u001b[38;5;241m=\u001b[39m _check_sample_weight(sample_weight, X, dtype\u001b[38;5;241m=\u001b[39mnp\u001b[38;5;241m.\u001b[39mfloat64)\n\u001b[0;32m   1223\u001b[0m solver_type \u001b[38;5;241m=\u001b[39m _get_liblinear_solver_type(multi_class, penalty, loss, dual)\n\u001b[1;32m-> 1224\u001b[0m raw_coef_, n_iter_ \u001b[38;5;241m=\u001b[39m \u001b[43mliblinear\u001b[49m\u001b[38;5;241;43m.\u001b[39;49m\u001b[43mtrain_wrap\u001b[49m\u001b[43m(\u001b[49m\n\u001b[0;32m   1225\u001b[0m \u001b[43m    \u001b[49m\u001b[43mX\u001b[49m\u001b[43m,\u001b[49m\n\u001b[0;32m   1226\u001b[0m \u001b[43m    \u001b[49m\u001b[43my_ind\u001b[49m\u001b[43m,\u001b[49m\n\u001b[0;32m   1227\u001b[0m \u001b[43m    \u001b[49m\u001b[43msp\u001b[49m\u001b[38;5;241;43m.\u001b[39;49m\u001b[43misspmatrix\u001b[49m\u001b[43m(\u001b[49m\u001b[43mX\u001b[49m\u001b[43m)\u001b[49m\u001b[43m,\u001b[49m\n\u001b[0;32m   1228\u001b[0m \u001b[43m    \u001b[49m\u001b[43msolver_type\u001b[49m\u001b[43m,\u001b[49m\n\u001b[0;32m   1229\u001b[0m \u001b[43m    \u001b[49m\u001b[43mtol\u001b[49m\u001b[43m,\u001b[49m\n\u001b[0;32m   1230\u001b[0m \u001b[43m    \u001b[49m\u001b[43mbias\u001b[49m\u001b[43m,\u001b[49m\n\u001b[0;32m   1231\u001b[0m \u001b[43m    \u001b[49m\u001b[43mC\u001b[49m\u001b[43m,\u001b[49m\n\u001b[0;32m   1232\u001b[0m \u001b[43m    \u001b[49m\u001b[43mclass_weight_\u001b[49m\u001b[43m,\u001b[49m\n\u001b[0;32m   1233\u001b[0m \u001b[43m    \u001b[49m\u001b[43mmax_iter\u001b[49m\u001b[43m,\u001b[49m\n\u001b[0;32m   1234\u001b[0m \u001b[43m    \u001b[49m\u001b[43mrnd\u001b[49m\u001b[38;5;241;43m.\u001b[39;49m\u001b[43mrandint\u001b[49m\u001b[43m(\u001b[49m\u001b[43mnp\u001b[49m\u001b[38;5;241;43m.\u001b[39;49m\u001b[43miinfo\u001b[49m\u001b[43m(\u001b[49m\u001b[38;5;124;43m\"\u001b[39;49m\u001b[38;5;124;43mi\u001b[39;49m\u001b[38;5;124;43m\"\u001b[39;49m\u001b[43m)\u001b[49m\u001b[38;5;241;43m.\u001b[39;49m\u001b[43mmax\u001b[49m\u001b[43m)\u001b[49m\u001b[43m,\u001b[49m\n\u001b[0;32m   1235\u001b[0m \u001b[43m    \u001b[49m\u001b[43mepsilon\u001b[49m\u001b[43m,\u001b[49m\n\u001b[0;32m   1236\u001b[0m \u001b[43m    \u001b[49m\u001b[43msample_weight\u001b[49m\u001b[43m,\u001b[49m\n\u001b[0;32m   1237\u001b[0m \u001b[43m\u001b[49m\u001b[43m)\u001b[49m\n\u001b[0;32m   1238\u001b[0m \u001b[38;5;66;03m# Regarding rnd.randint(..) in the above signature:\u001b[39;00m\n\u001b[0;32m   1239\u001b[0m \u001b[38;5;66;03m# seed for srand in range [0..INT_MAX); due to limitations in Numpy\u001b[39;00m\n\u001b[0;32m   1240\u001b[0m \u001b[38;5;66;03m# on 32-bit platforms, we can't get to the UINT_MAX limit that\u001b[39;00m\n\u001b[0;32m   1241\u001b[0m \u001b[38;5;66;03m# srand supports\u001b[39;00m\n\u001b[0;32m   1242\u001b[0m n_iter_max \u001b[38;5;241m=\u001b[39m \u001b[38;5;28mmax\u001b[39m(n_iter_)\n",
      "\u001b[1;31mKeyboardInterrupt\u001b[0m: "
     ]
    }
   ],
   "source": [
    "# Fit the L1 model to the training data\n",
    "l1_model = logistic_regression_model_l1.fit(X_train, y_train)\n"
   ]
  },
  {
   "cell_type": "code",
   "execution_count": null,
   "id": "8842d39c",
   "metadata": {},
   "outputs": [],
   "source": [
    "# L2 penalty\n",
    "logistic_regression_model_l2 = LogisticRegression(penalty='l2')"
   ]
  },
  {
   "cell_type": "code",
   "execution_count": null,
   "id": "15576e6f",
   "metadata": {},
   "outputs": [],
   "source": [
    "# Fit the L2 model to the training data\n",
    "l2_model = logistic_regression_model_l2.fit(X_train, y_train)"
   ]
  },
  {
   "cell_type": "code",
   "execution_count": null,
   "id": "173a5959",
   "metadata": {},
   "outputs": [],
   "source": [
    "# Fit and save the logistic regression model using the training data\n",
    "logistic_regression_model = LogisticRegression(random_state=42)\n",
    "lr_model = logistic_regression_model.fit(X_train, y_train)"
   ]
  },
  {
   "cell_type": "code",
   "execution_count": null,
   "id": "82f86c0c",
   "metadata": {},
   "outputs": [],
   "source": [
    "# Generate training predictions\n",
    "training_predictions = lr_model.predict(X_train)"
   ]
  },
  {
   "cell_type": "code",
   "execution_count": null,
   "id": "76324633",
   "metadata": {},
   "outputs": [],
   "source": [
    "# Generate testing predictions\n",
    "testing_predictions = lr_model.predict(X_test)\n"
   ]
  },
  {
   "cell_type": "code",
   "execution_count": null,
   "id": "ca1da5a8",
   "metadata": {},
   "outputs": [],
   "source": [
    "# Create and print the confusion matrix for the training data\n",
    "from sklearn.metrics import confusion_matrix\n",
    "training_matrix = confusion_matrix(y_train, training_predictions)\n",
    "print(training_matrix)"
   ]
  },
  {
   "cell_type": "code",
   "execution_count": null,
   "id": "a80cbbec",
   "metadata": {},
   "outputs": [],
   "source": [
    "# Create and print the confusion matrix for the testing data\n",
    "testing_matrix = confusion_matrix(y_test, testing_predictions)\n",
    "print(testing_matrix)"
   ]
  },
  {
   "cell_type": "code",
   "execution_count": null,
   "id": "f3ea5f7d",
   "metadata": {},
   "outputs": [],
   "source": [
    "# Create and save the training classification report\n",
    "training_report = classification_report(y_train, training_predictions)\n",
    "print(training_report)"
   ]
  },
  {
   "cell_type": "code",
   "execution_count": null,
   "id": "3bbefc19",
   "metadata": {},
   "outputs": [],
   "source": [
    "# Create and save the testing classification report\n",
    "testing_report = classification_report(y_test, testing_predictions)\n",
    "print(testing_report)"
   ]
  },
  {
   "cell_type": "markdown",
   "id": "e088ae50",
   "metadata": {},
   "source": [
    "## Step 9: Hyperparameter Tuning"
   ]
  },
  {
   "cell_type": "code",
   "execution_count": 28,
   "id": "16df7cc2",
   "metadata": {},
   "outputs": [
    {
     "name": "stderr",
     "output_type": "stream",
     "text": [
      "/opt/anaconda3/lib/python3.9/site-packages/sklearn/linear_model/_logistic.py:1483: UserWarning: Setting penalty='none' will ignore the C and l1_ratio parameters\n",
      "  warnings.warn(\n",
      "/opt/anaconda3/lib/python3.9/site-packages/sklearn/linear_model/_logistic.py:1483: UserWarning: Setting penalty='none' will ignore the C and l1_ratio parameters\n",
      "  warnings.warn(\n",
      "/opt/anaconda3/lib/python3.9/site-packages/sklearn/linear_model/_logistic.py:1483: UserWarning: Setting penalty='none' will ignore the C and l1_ratio parameters\n",
      "  warnings.warn(\n",
      "/opt/anaconda3/lib/python3.9/site-packages/sklearn/linear_model/_logistic.py:1483: UserWarning: Setting penalty='none' will ignore the C and l1_ratio parameters\n",
      "  warnings.warn(\n",
      "/opt/anaconda3/lib/python3.9/site-packages/sklearn/linear_model/_logistic.py:1483: UserWarning: Setting penalty='none' will ignore the C and l1_ratio parameters\n",
      "  warnings.warn(\n",
      "/opt/anaconda3/lib/python3.9/site-packages/sklearn/linear_model/_logistic.py:1483: UserWarning: Setting penalty='none' will ignore the C and l1_ratio parameters\n",
      "  warnings.warn(\n",
      "/opt/anaconda3/lib/python3.9/site-packages/sklearn/linear_model/_logistic.py:1483: UserWarning: Setting penalty='none' will ignore the C and l1_ratio parameters\n",
      "  warnings.warn(\n",
      "/opt/anaconda3/lib/python3.9/site-packages/sklearn/linear_model/_logistic.py:1483: UserWarning: Setting penalty='none' will ignore the C and l1_ratio parameters\n",
      "  warnings.warn(\n",
      "/opt/anaconda3/lib/python3.9/site-packages/sklearn/linear_model/_logistic.py:1483: UserWarning: Setting penalty='none' will ignore the C and l1_ratio parameters\n",
      "  warnings.warn(\n",
      "/opt/anaconda3/lib/python3.9/site-packages/sklearn/linear_model/_logistic.py:1483: UserWarning: Setting penalty='none' will ignore the C and l1_ratio parameters\n",
      "  warnings.warn(\n",
      "/opt/anaconda3/lib/python3.9/site-packages/sklearn/linear_model/_logistic.py:814: ConvergenceWarning: lbfgs failed to converge (status=1):\n",
      "STOP: TOTAL NO. of ITERATIONS REACHED LIMIT.\n",
      "\n",
      "Increase the number of iterations (max_iter) or scale the data as shown in:\n",
      "    https://scikit-learn.org/stable/modules/preprocessing.html\n",
      "Please also refer to the documentation for alternative solver options:\n",
      "    https://scikit-learn.org/stable/modules/linear_model.html#logistic-regression\n",
      "  n_iter_i = _check_optimize_result(\n",
      "/opt/anaconda3/lib/python3.9/site-packages/sklearn/linear_model/_logistic.py:1483: UserWarning: Setting penalty='none' will ignore the C and l1_ratio parameters\n",
      "  warnings.warn(\n",
      "/opt/anaconda3/lib/python3.9/site-packages/sklearn/linear_model/_logistic.py:1483: UserWarning: Setting penalty='none' will ignore the C and l1_ratio parameters\n",
      "  warnings.warn(\n",
      "/opt/anaconda3/lib/python3.9/site-packages/sklearn/linear_model/_logistic.py:1483: UserWarning: Setting penalty='none' will ignore the C and l1_ratio parameters\n",
      "  warnings.warn(\n",
      "/opt/anaconda3/lib/python3.9/site-packages/sklearn/linear_model/_logistic.py:1483: UserWarning: Setting penalty='none' will ignore the C and l1_ratio parameters\n",
      "  warnings.warn(\n",
      "/opt/anaconda3/lib/python3.9/site-packages/sklearn/linear_model/_logistic.py:814: ConvergenceWarning: lbfgs failed to converge (status=1):\n",
      "STOP: TOTAL NO. of ITERATIONS REACHED LIMIT.\n",
      "\n",
      "Increase the number of iterations (max_iter) or scale the data as shown in:\n",
      "    https://scikit-learn.org/stable/modules/preprocessing.html\n",
      "Please also refer to the documentation for alternative solver options:\n",
      "    https://scikit-learn.org/stable/modules/linear_model.html#logistic-regression\n",
      "  n_iter_i = _check_optimize_result(\n",
      "/opt/anaconda3/lib/python3.9/site-packages/sklearn/linear_model/_logistic.py:1483: UserWarning: Setting penalty='none' will ignore the C and l1_ratio parameters\n",
      "  warnings.warn(\n",
      "/opt/anaconda3/lib/python3.9/site-packages/sklearn/linear_model/_logistic.py:814: ConvergenceWarning: lbfgs failed to converge (status=1):\n",
      "STOP: TOTAL NO. of ITERATIONS REACHED LIMIT.\n",
      "\n",
      "Increase the number of iterations (max_iter) or scale the data as shown in:\n",
      "    https://scikit-learn.org/stable/modules/preprocessing.html\n",
      "Please also refer to the documentation for alternative solver options:\n",
      "    https://scikit-learn.org/stable/modules/linear_model.html#logistic-regression\n",
      "  n_iter_i = _check_optimize_result(\n",
      "/opt/anaconda3/lib/python3.9/site-packages/sklearn/linear_model/_logistic.py:1483: UserWarning: Setting penalty='none' will ignore the C and l1_ratio parameters\n",
      "  warnings.warn(\n",
      "/opt/anaconda3/lib/python3.9/site-packages/sklearn/linear_model/_logistic.py:1483: UserWarning: Setting penalty='none' will ignore the C and l1_ratio parameters\n",
      "  warnings.warn(\n",
      "/opt/anaconda3/lib/python3.9/site-packages/sklearn/linear_model/_logistic.py:1483: UserWarning: Setting penalty='none' will ignore the C and l1_ratio parameters\n",
      "  warnings.warn(\n",
      "/opt/anaconda3/lib/python3.9/site-packages/sklearn/linear_model/_logistic.py:814: ConvergenceWarning: lbfgs failed to converge (status=1):\n",
      "STOP: TOTAL NO. of ITERATIONS REACHED LIMIT.\n",
      "\n",
      "Increase the number of iterations (max_iter) or scale the data as shown in:\n",
      "    https://scikit-learn.org/stable/modules/preprocessing.html\n",
      "Please also refer to the documentation for alternative solver options:\n",
      "    https://scikit-learn.org/stable/modules/linear_model.html#logistic-regression\n",
      "  n_iter_i = _check_optimize_result(\n",
      "/opt/anaconda3/lib/python3.9/site-packages/sklearn/linear_model/_logistic.py:1483: UserWarning: Setting penalty='none' will ignore the C and l1_ratio parameters\n",
      "  warnings.warn(\n",
      "/opt/anaconda3/lib/python3.9/site-packages/sklearn/linear_model/_logistic.py:1483: UserWarning: Setting penalty='none' will ignore the C and l1_ratio parameters\n",
      "  warnings.warn(\n",
      "/opt/anaconda3/lib/python3.9/site-packages/sklearn/linear_model/_logistic.py:814: ConvergenceWarning: lbfgs failed to converge (status=1):\n",
      "STOP: TOTAL NO. of ITERATIONS REACHED LIMIT.\n",
      "\n",
      "Increase the number of iterations (max_iter) or scale the data as shown in:\n",
      "    https://scikit-learn.org/stable/modules/preprocessing.html\n",
      "Please also refer to the documentation for alternative solver options:\n",
      "    https://scikit-learn.org/stable/modules/linear_model.html#logistic-regression\n",
      "  n_iter_i = _check_optimize_result(\n",
      "/opt/anaconda3/lib/python3.9/site-packages/sklearn/linear_model/_logistic.py:1483: UserWarning: Setting penalty='none' will ignore the C and l1_ratio parameters\n",
      "  warnings.warn(\n",
      "/opt/anaconda3/lib/python3.9/site-packages/sklearn/linear_model/_logistic.py:814: ConvergenceWarning: lbfgs failed to converge (status=1):\n",
      "STOP: TOTAL NO. of ITERATIONS REACHED LIMIT.\n",
      "\n",
      "Increase the number of iterations (max_iter) or scale the data as shown in:\n",
      "    https://scikit-learn.org/stable/modules/preprocessing.html\n",
      "Please also refer to the documentation for alternative solver options:\n",
      "    https://scikit-learn.org/stable/modules/linear_model.html#logistic-regression\n",
      "  n_iter_i = _check_optimize_result(\n",
      "/opt/anaconda3/lib/python3.9/site-packages/sklearn/linear_model/_logistic.py:1483: UserWarning: Setting penalty='none' will ignore the C and l1_ratio parameters\n",
      "  warnings.warn(\n",
      "/opt/anaconda3/lib/python3.9/site-packages/sklearn/linear_model/_logistic.py:1483: UserWarning: Setting penalty='none' will ignore the C and l1_ratio parameters\n",
      "  warnings.warn(\n",
      "/opt/anaconda3/lib/python3.9/site-packages/sklearn/linear_model/_logistic.py:1483: UserWarning: Setting penalty='none' will ignore the C and l1_ratio parameters\n",
      "  warnings.warn(\n",
      "/opt/anaconda3/lib/python3.9/site-packages/sklearn/linear_model/_logistic.py:1483: UserWarning: Setting penalty='none' will ignore the C and l1_ratio parameters\n",
      "  warnings.warn(\n",
      "/opt/anaconda3/lib/python3.9/site-packages/sklearn/linear_model/_logistic.py:814: ConvergenceWarning: lbfgs failed to converge (status=1):\n",
      "STOP: TOTAL NO. of ITERATIONS REACHED LIMIT.\n",
      "\n",
      "Increase the number of iterations (max_iter) or scale the data as shown in:\n",
      "    https://scikit-learn.org/stable/modules/preprocessing.html\n",
      "Please also refer to the documentation for alternative solver options:\n",
      "    https://scikit-learn.org/stable/modules/linear_model.html#logistic-regression\n",
      "  n_iter_i = _check_optimize_result(\n"
     ]
    },
    {
     "name": "stdout",
     "output_type": "stream",
     "text": [
      "Best hyperparameters: {'C': 0.1, 'penalty': 'l2'}\n",
      "Best cross-validation accuracy score: 0.8150724637681158\n"
     ]
    },
    {
     "name": "stderr",
     "output_type": "stream",
     "text": [
      "/opt/anaconda3/lib/python3.9/site-packages/sklearn/linear_model/_logistic.py:814: ConvergenceWarning: lbfgs failed to converge (status=1):\n",
      "STOP: TOTAL NO. of ITERATIONS REACHED LIMIT.\n",
      "\n",
      "Increase the number of iterations (max_iter) or scale the data as shown in:\n",
      "    https://scikit-learn.org/stable/modules/preprocessing.html\n",
      "Please also refer to the documentation for alternative solver options:\n",
      "    https://scikit-learn.org/stable/modules/linear_model.html#logistic-regression\n",
      "  n_iter_i = _check_optimize_result(\n",
      "/opt/anaconda3/lib/python3.9/site-packages/sklearn/model_selection/_validation.py:372: FitFailedWarning: \n",
      "30 fits failed out of a total of 90.\n",
      "The score on these train-test partitions for these parameters will be set to nan.\n",
      "If these failures are not expected, you can try to debug them by setting error_score='raise'.\n",
      "\n",
      "Below are more details about the failures:\n",
      "--------------------------------------------------------------------------------\n",
      "30 fits failed with the following error:\n",
      "Traceback (most recent call last):\n",
      "  File \"/opt/anaconda3/lib/python3.9/site-packages/sklearn/model_selection/_validation.py\", line 680, in _fit_and_score\n",
      "    estimator.fit(X_train, y_train, **fit_params)\n",
      "  File \"/opt/anaconda3/lib/python3.9/site-packages/sklearn/linear_model/_logistic.py\", line 1461, in fit\n",
      "    solver = _check_solver(self.solver, self.penalty, self.dual)\n",
      "  File \"/opt/anaconda3/lib/python3.9/site-packages/sklearn/linear_model/_logistic.py\", line 447, in _check_solver\n",
      "    raise ValueError(\n",
      "ValueError: Solver lbfgs supports only 'l2' or 'none' penalties, got l1 penalty.\n",
      "\n",
      "  warnings.warn(some_fits_failed_message, FitFailedWarning)\n",
      "/opt/anaconda3/lib/python3.9/site-packages/sklearn/model_selection/_search.py:969: UserWarning: One or more of the test scores are non-finite: [       nan 0.66463768 0.81072464        nan 0.71768116 0.81072464\n",
      "        nan 0.81507246 0.81072464        nan 0.81507246 0.81072464\n",
      "        nan 0.81507246 0.81072464        nan 0.81072464 0.81072464]\n",
      "  warnings.warn(\n"
     ]
    }
   ],
   "source": [
    "# Import the necessary libraries\n",
    "from sklearn.model_selection import GridSearchCV, StratifiedKFold\n",
    "\n",
    "# Define the parameter grid to search over\n",
    "param_grid = {\n",
    "    'penalty': ['l1', 'l2', 'none'], \n",
    "    'C': [0.001, 0.01, 0.1, 1, 10, 100]\n",
    "}\n",
    "\n",
    "# Create a logistic regression model\n",
    "model = LogisticRegression(max_iter=1000)\n",
    "\n",
    "# Define the cross validation strategy\n",
    "cv = StratifiedKFold(n_splits=5, shuffle=True, random_state=42)\n",
    "\n",
    "# Create the grid search object\n",
    "grid_search = GridSearchCV(model, param_grid, cv=cv, scoring='accuracy', n_jobs=-1)\n",
    "\n",
    "# Fit the grid search object to the data\n",
    "grid_search.fit(X_train, y_train)\n",
    "\n",
    "# Print the best hyperparameters and the corresponding accuracy score\n",
    "print('Best hyperparameters:', grid_search.best_params_)\n",
    "print('Best cross-validation accuracy score:', grid_search.best_score_)"
   ]
  },
  {
   "cell_type": "code",
   "execution_count": 29,
   "id": "fe83b787",
   "metadata": {},
   "outputs": [
    {
     "data": {
      "text/plain": [
       "LogisticRegression(C=0.1, max_iter=1000)"
      ]
     },
     "execution_count": 29,
     "metadata": {},
     "output_type": "execute_result"
    }
   ],
   "source": [
    "## Fit new model using the \"best\" hyperparameters found in the above grid search \n",
    "best_model = LogisticRegression(C = 0.1, penalty = 'l2', max_iter=1000)\n",
    "\n",
    "best_model.fit(X_train, y_train)"
   ]
  },
  {
   "cell_type": "code",
   "execution_count": 30,
   "id": "cc8857ed",
   "metadata": {},
   "outputs": [],
   "source": [
    "#Generate training predictions using the \"best model\"\n",
    "training_predictions = best_model.predict(X_train)\n",
    "\n",
    "#Generate testing predictions using the \"best model\"\n",
    "testing_predictions = best_model.predict(X_test)\n"
   ]
  },
  {
   "cell_type": "code",
   "execution_count": 31,
   "id": "0651c939",
   "metadata": {},
   "outputs": [
    {
     "name": "stdout",
     "output_type": "stream",
     "text": [
      "              precision    recall  f1-score   support\n",
      "\n",
      "           0       0.90      0.74      0.81       103\n",
      "           1       0.81      0.94      0.87       124\n",
      "\n",
      "    accuracy                           0.85       227\n",
      "   macro avg       0.86      0.84      0.84       227\n",
      "weighted avg       0.85      0.85      0.84       227\n",
      "\n"
     ]
    }
   ],
   "source": [
    "# Create and save the testing classification report\n",
    "training_report = classification_report(y_train, training_predictions)\n",
    "\n",
    "print(training_report)"
   ]
  },
  {
   "cell_type": "code",
   "execution_count": 32,
   "id": "6c28237f",
   "metadata": {},
   "outputs": [
    {
     "name": "stdout",
     "output_type": "stream",
     "text": [
      "              precision    recall  f1-score   support\n",
      "\n",
      "           0       0.91      0.86      0.88        35\n",
      "           1       0.88      0.93      0.90        41\n",
      "\n",
      "    accuracy                           0.89        76\n",
      "   macro avg       0.90      0.89      0.89        76\n",
      "weighted avg       0.90      0.89      0.89        76\n",
      "\n"
     ]
    }
   ],
   "source": [
    "# Create and save the testing classification report\n",
    "testing_report = classification_report(y_test, testing_predictions)\n",
    "\n",
    "print(testing_report)"
   ]
  },
  {
   "cell_type": "code",
   "execution_count": null,
   "id": "29badf26",
   "metadata": {},
   "outputs": [],
   "source": []
  }
 ],
 "metadata": {
  "kernelspec": {
   "display_name": "Python 3 (ipykernel)",
   "language": "python",
   "name": "python3"
  },
  "language_info": {
   "codemirror_mode": {
    "name": "ipython",
    "version": 3
   },
   "file_extension": ".py",
   "mimetype": "text/x-python",
   "name": "python",
   "nbconvert_exporter": "python",
   "pygments_lexer": "ipython3",
   "version": "3.10.9"
  }
 },
 "nbformat": 4,
 "nbformat_minor": 5
}
